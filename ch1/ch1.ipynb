{
 "metadata": {
  "name": "ch1"
 },
 "nbformat": 3,
 "nbformat_minor": 0,
 "worksheets": [
  {
   "cells": [
    {
     "cell_type": "code",
     "collapsed": false,
     "input": [
      "%pylab inline\n",
      "from math import factorial\n",
      "from scipy.optimize import fsolve"
     ],
     "language": "python",
     "metadata": {},
     "outputs": [
      {
       "output_type": "stream",
       "stream": "stdout",
       "text": [
        "\n",
        "Welcome to pylab, a matplotlib-based Python environment [backend: module://IPython.zmq.pylab.backend_inline].\n",
        "For more information, type 'help(pylab)'.\n"
       ]
      }
     ],
     "prompt_number": 2
    },
    {
     "cell_type": "markdown",
     "metadata": {},
     "source": [
      "####Exercise 1.1-1\n",
      "Give a real-world example that requires sorting or a real-world example that re-quires computing a convex hull.\n",
      "\n",
      "Printing a phonebook, searching your phone by typing characters of the first/last/middle name of a contact.\n",
      "The convex hulls are needed for visualizing datasets, as well as for proving convergence of some optimization algorithms (simplex method, I think)"
     ]
    },
    {
     "cell_type": "markdown",
     "metadata": {},
     "source": [
      "#### Exercise 1.1-2\n",
      "Other than speed, what other measures of efficiency might one use in a real-world\n",
      "setting?\n",
      "\n",
      "Power (although this might often be directly proportional to speed).  Or perhaps behavior for large or small problem sizes, or for problems with some known structure -- i.e., if something is partially sorted, one algorithm could be much faster than an another.  Another measure is how much memory is used, or how big the code is, and whether recursion is needed or not.  In some systems, recursion is severely limited by the available stack depth, so a recursive algorithm might not be suitable. "
     ]
    },
    {
     "cell_type": "markdown",
     "metadata": {},
     "source": [
      "####Exercise 1.1-3\n",
      "Select a data structure that you have seen previously, and discuss its strengths and\n",
      "limitations.\n",
      "\n",
      "A list structure has O(1) insertion and deletion in the middle or end, or search time + O(1) for insertion in the middle.  This is better than a fixed array, which supports none of these operations, and better than a dynamic array, which does support these operations but has higher complexity O(n) for insertions at middle and beginning, and O(1) amortized when inserting at the end.  The weakness of a list structure is that indexing is O(n) in comparison to an array being O(1) because arrays are laid out contiguously in memory.\n"
     ]
    },
    {
     "cell_type": "markdown",
     "metadata": {},
     "source": [
      "####Exercise 1.1-4\n",
      "How are the shortest-path and traveling-salesman problems given above similar?\n",
      "How are they different?\n",
      "\n",
      "They are similar because they both seek to find a shortest path among a set of addresses.  In the case of the traveling-salesman problem however, the begin and end points are the same.  The null path is obviously a useless practical solution.  Also, in the TSP, you can only stop at places where there is goods to deliver, which is not a requirement in the shortest path problem."
     ]
    },
    {
     "cell_type": "markdown",
     "metadata": {},
     "source": [
      "####Exercise 1.1-5\n",
      "Come up with a real-world problem in which only the best solution will do. Then\n",
      "come up with one in which a solution that is \u201capproximately\u201d the best is good\n",
      "enough.\n",
      "\n",
      "Finding the nearest integer solution to a linear program requires the best solution.  If the problem is changed to allow for real numbers to be acceptable solutions, then in practice often we only care about some number of digits of precision, so something that is approximately the best will be good enough.\n"
     ]
    },
    {
     "cell_type": "code",
     "collapsed": false,
     "input": [
      "# Exercise 1.2-2\n",
      "# For n = 1 insertion sort is better than merge sort\n",
      "n = linspace(0.1, 2, 100)\n",
      "plot(n, 8*n**2 - 64*n*log2(n))"
     ],
     "language": "python",
     "metadata": {},
     "outputs": [
      {
       "output_type": "pyout",
       "prompt_number": 3,
       "text": [
        "[<matplotlib.lines.Line2D at 0x5adb1d0>]"
       ]
      },
      {
       "output_type": "display_data",
       "png": "[encoded data removed]",
       "text": [
        "<matplotlib.figure.Figure at 0x5992610>"
       ]
      }
     ],
     "prompt_number": 3
    },
    {
     "cell_type": "code",
     "collapsed": false,
     "input": [
      "# Exercise 1.2-3\n",
      "# For n >= 15, an algorithm whose running time is 100n^2 is faster than an algorithm which is 2^n\n",
      "n = linspace(13, 15, 100)\n",
      "plot(n, (100*n**2) - 2**n)"
     ],
     "language": "python",
     "metadata": {},
     "outputs": [
      {
       "output_type": "pyout",
       "prompt_number": 20,
       "text": [
        "[<matplotlib.lines.Line2D at 0x6f5ddd0>]"
       ]
      },
      {
       "output_type": "display_data",
       "png": "[encoded data removed]",
       "text": [
        "<matplotlib.figure.Figure at 0x69f6e10>"
       ]
      }
     ],
     "prompt_number": 20
    },
    {
     "cell_type": "code",
     "collapsed": false,
     "input": [
      "times = [1, 60, 60*60, 24*60*60, 30*24*60*60, 365*24*60*60, 100*365*24*60*60]\n",
      "functions = [lambda n: log2(n)*1e-6,\n",
      "             lambda n: sqrt(n)*1e-6,\n",
      "             lambda n: n*1e-6,\n",
      "             lambda n: n*log2(n)*1e-6,\n",
      "             lambda n: n*n*1e-6,\n",
      "             lambda n: n*n*n*1e-6,\n",
      "             lambda n: 2**n*1e-6,\n",
      "             lambda n: factorial(n)*1e-6]\n",
      "for f in functions:\n",
      "    for t in times:\n",
      "        "
     ],
     "language": "python",
     "metadata": {},
     "outputs": [],
     "prompt_number": 26
    }
   ],
   "metadata": {}
  }
 ]
}