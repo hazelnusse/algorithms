{
 "metadata": {
  "name": "",
  "signature": "sha256:1bb7f3d90670e7ff620455da5a85a2b1b9744b437ef4e74f84b1f1f8c2fd3943"
 },
 "nbformat": 3,
 "nbformat_minor": 0,
 "worksheets": [
  {
   "cells": [
    {
     "cell_type": "code",
     "collapsed": false,
     "input": [
      "%matplotlib inline\n",
      "import matplotlib.pyplot as plt\n",
      "from scipy.optimize import fsolve\n",
      "import scipy.misc\n",
      "import numpy as np\n",
      "import sympy as sp"
     ],
     "language": "python",
     "metadata": {},
     "outputs": [],
     "prompt_number": 1
    },
    {
     "cell_type": "markdown",
     "metadata": {},
     "source": [
      "####Exercise 1.1-1\n",
      "Give a real-world example that requires sorting or a real-world example that re-quires computing a convex hull.\n",
      "\n",
      "Printing a phonebook, searching your phone by typing characters of the first/last/middle name of a contact.\n",
      "The convex hulls are needed for visualizing datasets, as well as for proving convergence of some optimization algorithms (simplex method, I think)"
     ]
    },
    {
     "cell_type": "markdown",
     "metadata": {},
     "source": [
      "#### Exercise 1.1-2\n",
      "Other than speed, what other measures of efficiency might one use in a real-world\n",
      "setting?\n",
      "\n",
      "Power (although this might often be directly proportional to speed).  Or perhaps behavior for large or small problem sizes, or for problems with some known structure -- i.e., if something is partially sorted, one algorithm could be much faster than an another.  Another measure is how much memory is used, or how big the code is, and whether recursion is needed or not.  In some systems, recursion is severely limited by the available stack depth, so a recursive algorithm might not be suitable. "
     ]
    },
    {
     "cell_type": "markdown",
     "metadata": {},
     "source": [
      "####Exercise 1.1-3\n",
      "Select a data structure that you have seen previously, and discuss its strengths and\n",
      "limitations.\n",
      "\n",
      "A list structure has O(1) insertion and deletion in the middle or end, or search time + O(1) for insertion in the middle.  This is better than a fixed array, which supports none of these operations, and better than a dynamic array, which does support these operations but has higher complexity O(n) for insertions at middle and beginning, and O(1) amortized when inserting at the end.  The weakness of a list structure is that indexing is O(n) in comparison to an array being O(1) because arrays are laid out contiguously in memory.\n"
     ]
    },
    {
     "cell_type": "markdown",
     "metadata": {},
     "source": [
      "####Exercise 1.1-4\n",
      "How are the shortest-path and traveling-salesman problems given above similar?\n",
      "How are they different?\n",
      "\n",
      "They are similar because they both seek to find a shortest path among a set of addresses.  In the case of the traveling-salesman problem however, the begin and end points are the same.  The null path is obviously a useless practical solution.  Also, in the TSP, you can only stop at places where there are goods to deliver, which is not a requirement in the shortest path problem."
     ]
    },
    {
     "cell_type": "markdown",
     "metadata": {},
     "source": [
      "####Exercise 1.1-5\n",
      "Come up with a real-world problem in which only the best solution will do. Then\n",
      "come up with one in which a solution that is \u201capproximately\u201d the best is good\n",
      "enough.\n",
      "\n",
      "Finding the nearest integer solution to a linear program requires the best solution.  If the problem is changed to allow for real numbers to be acceptable solutions, then in practice often we only care about some number of digits of precision, so something that is approximately the best will be good enough.\n"
     ]
    },
    {
     "cell_type": "markdown",
     "metadata": {},
     "source": [
      "####Exercise 1.2-1\n",
      "Give an example of an application that requires algorithmic content at the application level, and discuss the function of the algorithms involved.\n",
      "\n",
      "Matlab is an application which provides a high level interface to many numerical algorithms used for engineering applications."
     ]
    },
    {
     "cell_type": "markdown",
     "metadata": {},
     "source": [
      "####Exercise 1.2-2\n",
      "Suppose we are comparing implementations of insertion sort and merge sort on the same machine. For inputs of size n, insertion sort runs in 8n^2 steps, while merge sort runs in 64nlog(n) steps. For which values of n does insertion sort beat merge sort?"
     ]
    },
    {
     "cell_type": "code",
     "collapsed": false,
     "input": [
      "# Exercise 1.2-2\n",
      "# For n = 1 insertion sort is better than merge sort\n",
      "n = np.linspace(0.01, 45, 1000)\n",
      "plt.plot(n, 8*n**2 - 64*n*np.log2(n))\n",
      "plt.xlabel(\"n\")\n",
      "plt.ylabel(\"8*n^2 - 64*n*log2(n)\")\n",
      "n0 = fsolve(lambda n: 8*n*n - 64*n*np.log2(n), 1)\n",
      "n1 = fsolve(lambda n: 8*n*n - 64*n*np.log2(n), 43)\n",
      "print(\"n0 = {}\".format(n0))\n",
      "print(\"n1 = {}\".format(n1))\n",
      "n, c1, c2 = sp.symbols('n c1 c2')\n",
      "expr = 8*n*n - 64*n*sp.log(n, 2)\n",
      "roots = sp.solve(expr, n)\n",
      "print(roots)\n",
      "plt.show()"
     ],
     "language": "python",
     "metadata": {},
     "outputs": [
      {
       "output_type": "stream",
       "stream": "stdout",
       "text": [
        "n0 = [ 1.09999703]\n",
        "n1 = [ 43.55926044]\n",
        "[-8*LambertW(-log(2)/8)/log(2)]"
       ]
      },
      {
       "output_type": "stream",
       "stream": "stdout",
       "text": [
        "\n"
       ]
      },
      {
       "metadata": {},
       "output_type": "display_data",
       "png": "[encoded data removed]",
       "text": [
        "<matplotlib.figure.Figure at 0x7fb26a375ed0>"
       ]
      }
     ],
     "prompt_number": 2
    },
    {
     "cell_type": "code",
     "collapsed": false,
     "input": [
      "# Exercise 1.2-3\n",
      "# For n >= 15, an algorithm whose running time is 100n^2 is faster than an algorithm which is 2^n\n",
      "n = np.linspace(13, 15, 100)\n",
      "plt.plot(n, (100*n**2) - 2**n)\n",
      "smallest_n = fsolve(lambda n: 100*n*n - 2**n, 14)\n",
      "print(smallest_n)"
     ],
     "language": "python",
     "metadata": {},
     "outputs": [
      {
       "output_type": "stream",
       "stream": "stdout",
       "text": [
        "[ 14.32472784]\n"
       ]
      },
      {
       "metadata": {},
       "output_type": "display_data",
       "png": "[encoded data removed]",
       "text": [
        "<matplotlib.figure.Figure at 0x7fb26a3eb950>"
       ]
      }
     ],
     "prompt_number": 3
    },
    {
     "cell_type": "code",
     "collapsed": false,
     "input": [
      "from scipy.special import lambertw\n",
      "\n",
      "microseconds = [1, 60]# 24*60*60e6,\n",
      "                #30*24*60*60e6 365*24*60*60e6, 100*365*24*60*60e6]\n",
      "solutions = [lambda t: 2**t,\n",
      "             lambda t: t**2,\n",
      "             lambda t: t,\n",
      "             lambda t: np.exp(lambertw(t*np.log(2))),\n",
      "             lambda t: np.sqrt(t),\n",
      "             lambda t: t**(1./3),\n",
      "             lambda t: np.log2(t)]\n",
      "\n",
      "table = np.empty([len(solutions), len(microseconds)])\n",
      "for j, t in enumerate(microseconds):\n",
      "    for i, f in enumerate(solutions):\n",
      "        table[i, j] = f(t)\n",
      "        \n",
      "print(table)"
     ],
     "language": "python",
     "metadata": {},
     "outputs": [
      {
       "output_type": "stream",
       "stream": "stdout",
       "text": [
        "[[  2.00000000e+00   1.15292150e+18]\n",
        " [  1.00000000e+00   3.60000000e+03]\n",
        " [  1.00000000e+00   6.00000000e+01]\n",
        " [  1.55961047e+00   1.52604682e+01]\n",
        " [  1.00000000e+00   7.74596669e+00]\n",
        " [  1.00000000e+00   3.91486764e+00]\n",
        " [  0.00000000e+00   5.90689060e+00]]\n"
       ]
      },
      {
       "output_type": "stream",
       "stream": "stderr",
       "text": [
        "-c:16: ComplexWarning: Casting complex values to real discards the imaginary part\n"
       ]
      }
     ],
     "prompt_number": 4
    },
    {
     "cell_type": "code",
     "collapsed": false,
     "input": [],
     "language": "python",
     "metadata": {},
     "outputs": [],
     "prompt_number": 4
    }
   ],
   "metadata": {}
  }
 ]
}